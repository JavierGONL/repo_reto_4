{
 "cells": [
  {
   "cell_type": "markdown",
   "metadata": {},
   "source": [
    "1. Dado un número entero, determinar si ese número corresponde al código ASCII de una vocal minúscula."
   ]
  },
  {
   "cell_type": "code",
   "execution_count": null,
   "metadata": {},
   "outputs": [],
   "source": [
    "esNumeroASCII = input(\"Ingrese un numero ASCII: \")\n",
    "if esNumeroASCII >= \"97\" and esNumeroASCII <= \"122\":\n",
    "    print(\"Es un numero ASCII, es la letra: \", esNumeroASCII)\n",
    "else:\n",
    "    print(\"No es un numero ASCII\")"
   ]
  },
  {
   "cell_type": "markdown",
   "metadata": {},
   "source": [
    "2. Dada una cadena de longitud 1, determine si el código ASCII de primera letra de la cadena es par o no."
   ]
  },
  {
   "cell_type": "code",
   "execution_count": null,
   "metadata": {},
   "outputs": [],
   "source": [
    "cadenaDeLongitud1 = input(\"Ingrese un solo caracter: \")\n",
    "if ord(cadenaDeLongitud1) % 2 == 0:\n",
    "    print(\"El codigo ASCII del caracter es par\")\n",
    "else:\n",
    "    print(\"El codigo ASCII del caracter es impar\")"
   ]
  },
  {
   "cell_type": "markdown",
   "metadata": {},
   "source": [
    "3. Dado un carácter, construya un programa en Python para determinar si el carácter es un dígito o no."
   ]
  },
  {
   "cell_type": "code",
   "execution_count": null,
   "metadata": {},
   "outputs": [],
   "source": [
    "caracter = input(\"Ingrese un caracter: \")\n",
    "if caracter.isdigit():\n",
    "    print(\"Es un digito\")\n",
    "else:\n",
    "    print(\"No es un digito\")"
   ]
  },
  {
   "cell_type": "markdown",
   "metadata": {},
   "source": [
    "4. Dado un número real x, construya un programa que permita determinar si el número es positivo,\n",
    "negativo o cero. Para cada caso de debe imprimir el texto que se especifica a continuación:\n",
    "Positivo: \"El número x es positivo\"\n",
    "Negativo: \"El número x es negativo\"\n",
    "Cero (0): \"El número x es el neutro para la suma\""
   ]
  },
  {
   "cell_type": "code",
   "execution_count": null,
   "metadata": {},
   "outputs": [],
   "source": [
    "numeroReal= input(\"Ingrese un numero real: \")\n",
    "if numeroReal > 0:\n",
    "    print(\"El numero es positivo\")\n",
    "elif numeroReal == 0: \n",
    "    print(\"El número x es el neutro para la suma\")\n",
    "else:\n",
    "    print(\"El numero es negativo\")\n"
   ]
  },
  {
   "cell_type": "markdown",
   "metadata": {},
   "source": [
    "5. Dado el centro y el radio de un círculo, determinar si un punto de R2 pertenece o no al interior del círculo."
   ]
  },
  {
   "cell_type": "code",
   "execution_count": null,
   "metadata": {},
   "outputs": [],
   "source": [
    "centroX = float(input(\"Ingrese el centro en X: \"))\n",
    "centroY = float(input(\"Ingrese el centro en Y: \"))\n",
    "radio = float(input(\"Ingrese el radio: \"))\n",
    "PI = 3.14159\n",
    "\n",
    "circulo= PI * radio**2\n",
    "puntoCualquieraEnX = float(input(\"Ingrese un punto cualquiera para x: \"))\n",
    "puntoCualquieraEnY = float(input(\"Ingrese un punto cualquiera para y: \"))\n",
    "distancia = (puntoCualquieraEnX - centroX)**2 + (puntoCualquieraEnY - centroY)**2\n",
    "if  distancia < circulo:\n",
    "    print(\"esta dentro del circulo\")\n",
    "else:\n",
    "    print(\"no esta dentro del circulo\")\n"
   ]
  },
  {
   "cell_type": "markdown",
   "metadata": {},
   "source": [
    "6. Dadas tres longitudes positivas, determinar si con esas longitudes se puede construir un triángulo."
   ]
  },
  {
   "cell_type": "code",
   "execution_count": null,
   "metadata": {},
   "outputs": [],
   "source": [
    "cateto1= int(input(\"(cateto1)ingrese un numero positivo: \"))\n",
    "cateto2 = int(input(\"(cateto2)ingrese un numero positivo: \"))\n",
    "hipotenusa = int(input(\"(hipotenusa)ingrese un numero positivo: \"))\n",
    "\n",
    "if cateto1**2 + cateto2**2 == hipotenusa**2:\n",
    "    print(\"Con las 3 longitudes puedes formar un triangulo rectangulo.\")\n",
    "elif cateto1 + cateto2 = hipotenusa and cateto + hipotenusa > cateto1 and hipotenusa + cateto1 > cateto2:\n",
    "    print(\"Con las 3 longitudes puedes formar un triangulo.\")\n",
    "else:\n",
    "    print(\"Con las 3 longitudes no puedes formar un triangulo.\")\n"
   ]
  }
 ],
 "metadata": {
  "kernelspec": {
   "display_name": "Python 3",
   "language": "python",
   "name": "python3"
  },
  "language_info": {
   "codemirror_mode": {
    "name": "ipython",
    "version": 3
   },
   "file_extension": ".py",
   "mimetype": "text/x-python",
   "name": "python",
   "nbconvert_exporter": "python",
   "pygments_lexer": "ipython3",
   "version": "3.12.2"
  }
 },
 "nbformat": 4,
 "nbformat_minor": 2
}
